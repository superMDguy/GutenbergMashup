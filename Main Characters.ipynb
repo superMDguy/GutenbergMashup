{
 "cells": [
  {
   "cell_type": "code",
   "execution_count": 3,
   "metadata": {
    "collapsed": false
   },
   "outputs": [
    {
     "name": "stdout",
     "output_type": "stream",
     "text": [
      "Hello, do you understand this?  Bob Howes is a person, and so is Eliza Bennet. Google isn't a person\n"
     ]
    }
   ],
   "source": [
    "import spacy\n",
    "en_nlp = spacy.load('en')\n",
    "doc = \"Hello, do you understand this?  Bob Howes is a person, and so is Eliza Bennet. Google isn't a person\"\n",
    "print(doc)"
   ]
  },
  {
   "cell_type": "code",
   "execution_count": 4,
   "metadata": {
    "collapsed": false
   },
   "outputs": [
    {
     "name": "stdout",
     "output_type": "stream",
     "text": [
      "hello\n"
     ]
    }
   ],
   "source": [
    "print(\"hello\")"
   ]
  },
  {
   "cell_type": "code",
   "execution_count": 5,
   "metadata": {
    "collapsed": false
   },
   "outputs": [
    {
     "data": {
      "text/plain": [
       "'H'"
      ]
     },
     "execution_count": 5,
     "metadata": {},
     "output_type": "execute_result"
    }
   ],
   "source": [
    "doc[0]"
   ]
  },
  {
   "cell_type": "code",
   "execution_count": 6,
   "metadata": {
    "collapsed": true
   },
   "outputs": [],
   "source": [
    "doc = en_nlp(doc)"
   ]
  },
  {
   "cell_type": "code",
   "execution_count": 7,
   "metadata": {
    "collapsed": false
   },
   "outputs": [
    {
     "data": {
      "text/plain": [
       "Hello"
      ]
     },
     "execution_count": 7,
     "metadata": {},
     "output_type": "execute_result"
    }
   ],
   "source": [
    "doc[0]"
   ]
  },
  {
   "cell_type": "code",
   "execution_count": 8,
   "metadata": {
    "collapsed": false
   },
   "outputs": [
    {
     "data": {
      "text/plain": [
       "understand this?"
      ]
     },
     "execution_count": 8,
     "metadata": {},
     "output_type": "execute_result"
    }
   ],
   "source": [
    "doc[4:7]"
   ]
  },
  {
   "cell_type": "code",
   "execution_count": 9,
   "metadata": {
    "collapsed": false
   },
   "outputs": [
    {
     "data": {
      "text/plain": [
       "0.28131544589996338"
      ]
     },
     "execution_count": 9,
     "metadata": {},
     "output_type": "execute_result"
    }
   ],
   "source": [
    "hi = doc[0]\n",
    "you = doc[2]\n",
    "hi.similarity(you)"
   ]
  },
  {
   "cell_type": "code",
   "execution_count": 10,
   "metadata": {
    "collapsed": false
   },
   "outputs": [
    {
     "data": {
      "text/plain": [
       "(Bob Howes, Eliza Bennet, Google)"
      ]
     },
     "execution_count": 10,
     "metadata": {},
     "output_type": "execute_result"
    }
   ],
   "source": [
    "doc.ents"
   ]
  },
  {
   "cell_type": "code",
   "execution_count": 11,
   "metadata": {
    "collapsed": false
   },
   "outputs": [
    {
     "name": "stdout",
     "output_type": "stream",
     "text": [
      "Bob Howes: PERSON\n",
      "Eliza Bennet: PERSON\n",
      "Google: ORG\n"
     ]
    }
   ],
   "source": [
    "for ent in doc.ents:\n",
    "    print(\"{}: {}\".format(ent, ent.label_))"
   ]
  },
  {
   "cell_type": "code",
   "execution_count": 12,
   "metadata": {
    "collapsed": true
   },
   "outputs": [],
   "source": [
    "pandp = '''   On the following Monday Mrs. Bennet had the pleasure of receiving her brother and his wife, who came as usual to spend the Christmas at Longbourn. Mr. Gardiner was a sensible, gentlemanlike man, greatly superior to his sister, as well by nature as education. The Netherfield ladies would have had difficulty in believing that a man who lived by trade, and within view of his own warehouses, could have been so well-bred and agreeable. Mrs. Gardiner, who was several years younger than Mrs. Bennet and Mrs. Philips, was an amiable, intelligent, elegant woman, and a great favourite with all her Longbourn nieces. Between the two eldest and herself especially there subsisted a very particular regard. They had frequently been staying with her in town.\n",
    "\n",
    "   The first part of Mrs. Gardiner's business on her arrival was to distribute her presents and describe the newest fashions. When this was done she had a less active part to play. It became her turn to listen. Mrs. Bennet had many grievances to relate, and much to complain of. They had all been very ill-used since she last saw her sister. Two of her girls had been on the point of marriage, and after all there was nothing in it.\n",
    "\n",
    "   \"I do not blame Jane,\" she continued, \"for Jane would have got Mr. Bingley if she could. But Lizzy! oh, sister! it is very hard to think that she might have been Mr. Collins's wife by this time, had not it been for her own perverseness. He made her an offer in this very room, and she refused him. The consequence of it is, that Lady Lucas will have a daughter married before I have, and that Longbourn estate is just as much entailed as ever. The Lucases are very artful people indeed, sister. They are all for what they can get. I am sorry to say it of them, but so it is. It makes me very nervous and poorly to be thwarted so in my own family, and to have neighbours who think of themselves before anybody else. However, your coming just at this time is the greatest of comforts, and I am very glad to hear what you tell us of long sleeves.\"\n",
    "\n",
    "   Mrs. Gardiner, to whom the chief of this news had been given before, in the course of Jane and Elizabeth's correspondence with her, made her sister a slight answer, and, in compassion to her nieces, turned the conversation.\n",
    "\n",
    "   When alone with Elizabeth afterwards, she spoke more on the subject. \"It seems likely to have been a desirable match for Jane,\" said she. \"I am sorry it went off. But these things happen so often! A young man, such as you describe Mr. Bingley, so easily falls in love with a pretty girl for a few weeks, and when accident separates them, so easily forgets her, that these sort of inconstancies are very frequent.\"\n",
    "\n",
    "   \"An excellent consolation in its way,\" said Elizabeth, \"but it will not do for us. We do not suffer by accident. It does not often happen that the interference of friends will persuade a young man of independent fortune to think no more of a girl whom he was violently in love with only a few days before.\"\n",
    "\n",
    "   \"But that expression of 'violently in love' is so hackneyed, so doubtful, so indefinite, that it gives me very little idea. It is as often applied to feelings which arise from an half-hour's acquaintance, as to a real, strong attachment. Pray, how violent was Mr. Bingley's love?\"\n",
    "\n",
    "   \"I never saw a more promising inclination; He was growing quite inattentive to other people, and wholly engrossed by her. Every time they met it was more decided and remarkable. At his own ball he offended two or three young ladies by not asking them to dance; and I spoke to him twice myself without receiving an answer. Could there be finer symptoms? Is not general incivility the very essence of love?\"\n",
    "\n",
    "   \"Oh, yes! -- of that kind of love which I suppose him to have felt. Poor Jane! I am sorry for her, because, with her disposition, she may not get over it immediately. It had better have happened to you, Lizzy; you would have laughed yourself out of it sooner. But do you think she would be prevailed on to go back with us? Change of scene might be of service -- and perhaps a little relief from home, may be as useful as anything.\"\n",
    "\n",
    "   Elizabeth was exceedingly pleased with this proposal, and felt persuaded of her sister's ready acquiescence.\n",
    "\n",
    "   \"I hope,\" added Mrs. Gardiner, \"that no consideration with regard to this young man will influence her. We live in so different a part of town, all our connexions are so different, and, as you well know, we go out so little, that it is very improbable they should meet at all, unless he really comes to see her.\"\n",
    "\n",
    "   \"And that is quite impossible; for he is now in the custody of his friend, and Mr. Darcy would no more suffer him to call on Jane in such a part of London! My dear aunt, how could you think of it? Mr. Darcy may, perhaps, have heard of such a place as Gracechurch Street, but he would hardly think a month's ablution enough to cleanse him from its impurities, were he once to enter it; and, depend upon it, Mr. Bingley never stirs without him.\"\n",
    "\n",
    "   \"So much the better. I hope they will not meet at all. But does not Jane correspond with the sister? She will not be able to help calling.\"\n",
    "\n",
    "   \"She will drop the acquaintance entirely.\"\n",
    "\n",
    "   But in spite of the certainty in which Elizabeth affected to place this point, as well as the still more interesting one of Bingley's being withheld from seeing Jane, she felt a solicitude on the subject which convinced her, on examination, that she did not consider it entirely hopeless. It was possible, and sometimes she thought it probable, that his affection might be reanimated, and the influence of his friends successfully combated by the more natural influence of Jane's attractions.\n",
    "\n",
    "   Miss Bennet accepted her aunt's invitation with pleasure; and the Bingleys were no otherwise in her thoughts at the time than as she hoped that, by Caroline's not living in the same house with her brother, she might occasionally spend a morning with her, without any danger of seeing him.\n",
    "\n",
    "   The Gardiners staid a week at Longbourn; and what with the Philipses, the Lucases, and the officers, there was not a day without its engagement. Mrs. Bennet had so carefully provided for the entertainment of her brother and sister that they did not once sit down to a family dinner. When the engagement was for home, some of the officers always made part of it -- of which officers Mr. Wickham was sure to be one; and on these occasions Mrs. Gardiner, rendered suspicious by Elizabeth's warm commendation of him, narrowly observed them both. Without supposing them, from what she saw, to be very seriously in love, their preference of each other was plain enough to make her a little uneasy; and she resolved to speak to Elizabeth on the subject before she left Hertfordshire, and represent to her the imprudence of encouraging such an attachment.\n",
    "\n",
    "   To Mrs. Gardiner, Wickham had one means of affording pleasure, unconnected with his general powers. About ten or a dozen years ago, before her marriage, she had spent a considerable time in that very part of Derbyshire to which he belonged. They had, therefore, many acquaintance in common; and though Wickham had been little there since the death of Darcy's father, five years before, it was yet in his power to give her fresher intelligence of her former friends than she had been in the way of procuring.\n",
    "\n",
    "   Mrs. Gardiner had seen Pemberley, and known the late Mr. Darcy by character perfectly well. Here consequently was an inexhaustible subject of discourse. In comparing her recollection of Pemberley with the minute description which Wickham could give, and in bestowing her tribute of praise on the character of its late possessor, she was delighting both him and herself. On being made acquainted with the present Mr. Darcy's treatment of him, she tried to remember something of that gentleman's reputed disposition when quite a lad which might agree with it, and was confident at last that she recollected having heard Mr. Fitzwilliam Darcy formerly spoken of as a very proud, ill-natured boy.\n",
    "\n",
    "\n",
    "'''"
   ]
  },
  {
   "cell_type": "code",
   "execution_count": 13,
   "metadata": {
    "collapsed": false
   },
   "outputs": [],
   "source": [
    "parsed = en_nlp(pandp)\n",
    "people = []\n",
    "\n",
    "for ent in parsed.ents:\n",
    "    if ent.label_ == \"PERSON\":\n",
    "        people.append(str(ent))"
   ]
  },
  {
   "cell_type": "code",
   "execution_count": 14,
   "metadata": {
    "collapsed": true
   },
   "outputs": [],
   "source": [
    "def rm_dup(arr):\n",
    "    cleaned = []\n",
    "    for item in arr:\n",
    "        if not item in cleaned:\n",
    "            cleaned.append(item)\n",
    "    return cleaned"
   ]
  },
  {
   "cell_type": "code",
   "execution_count": 15,
   "metadata": {
    "collapsed": false
   },
   "outputs": [
    {
     "data": {
      "text/plain": [
       "['Bennet',\n",
       " 'the Christmas at Longbourn',\n",
       " 'Gardiner',\n",
       " 'Philips',\n",
       " 'Jane',\n",
       " 'Bingley',\n",
       " 'Lizzy',\n",
       " 'Collins',\n",
       " 'Lady Lucas',\n",
       " 'Longbourn',\n",
       " 'Elizabeth',\n",
       " 'Darcy',\n",
       " 'Bingleys',\n",
       " 'Caroline',\n",
       " 'Philipses',\n",
       " 'Lucases',\n",
       " 'Wickham',\n",
       " 'Hertfordshire',\n",
       " 'Pemberley',\n",
       " 'Fitzwilliam Darcy']"
      ]
     },
     "execution_count": 15,
     "metadata": {},
     "output_type": "execute_result"
    }
   ],
   "source": [
    "rm_dup(people)"
   ]
  },
  {
   "cell_type": "code",
   "execution_count": 16,
   "metadata": {
    "collapsed": false
   },
   "outputs": [
    {
     "data": {
      "text/plain": [
       "Counter({'Bennet': 5,\n",
       "         'Bingley': 5,\n",
       "         'Bingleys': 1,\n",
       "         'Caroline': 1,\n",
       "         'Collins': 1,\n",
       "         'Darcy': 4,\n",
       "         'Elizabeth': 7,\n",
       "         'Fitzwilliam Darcy': 1,\n",
       "         'Gardiner': 8,\n",
       "         'Hertfordshire': 1,\n",
       "         'Jane': 9,\n",
       "         'Lady Lucas': 1,\n",
       "         'Lizzy': 2,\n",
       "         'Longbourn': 1,\n",
       "         'Lucases': 1,\n",
       "         'Pemberley': 1,\n",
       "         'Philips': 1,\n",
       "         'Philipses': 1,\n",
       "         'Wickham': 4,\n",
       "         'the Christmas at Longbourn': 1})"
      ]
     },
     "execution_count": 16,
     "metadata": {},
     "output_type": "execute_result"
    }
   ],
   "source": [
    "from collections import Counter\n",
    "Counter(people)"
   ]
  },
  {
   "cell_type": "code",
   "execution_count": 17,
   "metadata": {
    "collapsed": true
   },
   "outputs": [],
   "source": [
    "def top_n_characters(text, n=3):\n",
    "    parsed = en_nlp(text)\n",
    "    people = []\n",
    "\n",
    "    for ent in parsed.ents:\n",
    "        if ent.label_ == \"PERSON\":\n",
    "            people.append(str(ent))\n",
    "    \n",
    "    counts = Counter(people)\n",
    "    return counts.most_common(n)"
   ]
  },
  {
   "cell_type": "code",
   "execution_count": 18,
   "metadata": {
    "collapsed": false
   },
   "outputs": [
    {
     "data": {
      "text/plain": [
       "[('Jane', 9), ('Gardiner', 8), ('Elizabeth', 7)]"
      ]
     },
     "execution_count": 18,
     "metadata": {},
     "output_type": "execute_result"
    }
   ],
   "source": [
    "top_n_characters(pandp)"
   ]
  },
  {
   "cell_type": "code",
   "execution_count": 19,
   "metadata": {
    "collapsed": true
   },
   "outputs": [],
   "source": [
    "import requests\n",
    "sawyer = requests.get('https://www.gutenberg.org/files/74/74-0.txt').text"
   ]
  },
  {
   "cell_type": "code",
   "execution_count": 20,
   "metadata": {
    "collapsed": false
   },
   "outputs": [],
   "source": [
    "top = top_n_characters(sawyer, n=10)"
   ]
  },
  {
   "cell_type": "code",
   "execution_count": 28,
   "metadata": {
    "collapsed": false
   },
   "outputs": [
    {
     "data": {
      "text/plain": [
       "[('Tom', 546),\n",
       " ('Huck', 118),\n",
       " ('Joe', 65),\n",
       " ('Sid', 61),\n",
       " ('Becky', 53),\n",
       " ('Injun Joe', 39),\n",
       " ('Mary', 34),\n",
       " ('Aunt Polly', 32),\n",
       " ('Tom Sawyer', 24),\n",
       " ('Thatcher', 19)]"
      ]
     },
     "execution_count": 28,
     "metadata": {},
     "output_type": "execute_result"
    }
   ],
   "source": [
    "top"
   ]
  },
  {
   "cell_type": "code",
   "execution_count": 45,
   "metadata": {
    "collapsed": false
   },
   "outputs": [
    {
     "name": "stdout",
     "output_type": "stream",
     "text": [
      "Replacing Tom with {0}\n",
      "Replacing Huck with {1}\n",
      "Replacing Joe with {2}\n",
      "Replacing Sid with {3}\n",
      "Replacing Becky with {4}\n",
      "Replacing Injun Joe with {5}\n",
      "Replacing Mary with {6}\n",
      "Replacing Aunt Polly with {7}\n",
      "Replacing Tom Sawyer with {8}\n",
      "Replacing Thatcher with {9}\n"
     ]
    },
    {
     "data": {
      "text/plain": [
       "420743"
      ]
     },
     "execution_count": 45,
     "metadata": {},
     "output_type": "execute_result"
    }
   ],
   "source": [
    "i = 0\n",
    "for char in top:\n",
    "    print(\"Replacing {0} with {1}\".format(char[0], '{'+str(i)+'}'))\n",
    "    sawyer = sawyer.replace(char[0], '{'+str(i)+'}')\n",
    "    i+=1\n",
    "\n",
    "open('generalizedSawyer.txt', 'w').write(sawyer)"
   ]
  },
  {
   "cell_type": "code",
   "execution_count": 48,
   "metadata": {
    "collapsed": false
   },
   "outputs": [
    {
     "name": "stdout",
     "output_type": "stream",
     "text": [
      "char[0][0],char[1][0],char[2][0],char[3][0],char[4][0],char[5][0],char[6][0],char[7][0],char[8][0],char[9][0],\n"
     ]
    }
   ],
   "source": [
    "out = \"\"\n",
    "for i in range(10):\n",
    "    out+=\"char[{}][0],\".format(i)\n",
    "print(out)"
   ]
  },
  {
   "cell_type": "code",
   "execution_count": 76,
   "metadata": {
    "collapsed": false
   },
   "outputs": [],
   "source": [
    "def repl_chars(novel1, novel2):\n",
    "    char1 = top_n_characters(novel1, n=10)\n",
    "    char2 = top_n_characters(novel2, n=10)\n",
    "    print(char1)\n",
    "    print(char2)\n",
    "\n",
    "    for i in range(9):\n",
    "        print(\"Replacing {0} with {1}\".format(char1[i][0], char2[i][0]))\n",
    "        novel1 = novel1.replace(char1[i][0], char2[i][0])\n",
    "    \n",
    "    return novel1"
   ]
  },
  {
   "cell_type": "code",
   "execution_count": 77,
   "metadata": {
    "collapsed": true
   },
   "outputs": [],
   "source": [
    "sawyer = requests.get('https://www.gutenberg.org/files/74/74-0.txt').text"
   ]
  },
  {
   "cell_type": "code",
   "execution_count": 78,
   "metadata": {
    "collapsed": true
   },
   "outputs": [],
   "source": [
    "pride = requests.get('http://www.gutenberg.org/files/1342/1342-0.txt').text"
   ]
  },
  {
   "cell_type": "code",
   "execution_count": 79,
   "metadata": {
    "collapsed": false
   },
   "outputs": [
    {
     "name": "stdout",
     "output_type": "stream",
     "text": [
      "[('Tom', 546), ('Huck', 118), ('Joe', 65), ('Sid', 61), ('Becky', 53), ('Injun Joe', 39), ('Mary', 34), ('Aunt Polly', 32), ('Tom Sawyer', 24), ('Thatcher', 19)]\n",
      "[('Elizabeth', 581), ('Darcy', 307), ('Bennet', 262), ('Jane', 257), ('Bingley', 200), ('Collins', 169), ('Wickham', 158), ('Lydia', 126), ('Lizzy', 92), ('Gardiner', 82)]\n",
      "Replacing Tom with Elizabeth\n",
      "Replacing Huck with Darcy\n",
      "Replacing Joe with Bennet\n",
      "Replacing Sid with Jane\n",
      "Replacing Becky with Bingley\n",
      "Replacing Injun Joe with Collins\n",
      "Replacing Mary with Wickham\n",
      "Replacing Aunt Polly with Lydia\n",
      "Replacing Tom Sawyer with Lizzy\n"
     ]
    }
   ],
   "source": [
    "sawyerPride = repl_chars(sawyer, pride)"
   ]
  },
  {
   "cell_type": "code",
   "execution_count": 82,
   "metadata": {
    "collapsed": false
   },
   "outputs": [
    {
     "name": "stdout",
     "output_type": "stream",
     "text": [
      "mselves\r\n",
      "with dust and glory. Presently the confusion took form, and through the\r\n",
      "fog of battle Elizabeth appeared, seated astride the new boy, and pounding him\r\n",
      "with his fists. �Holler �nuff!� said he.\r\n",
      "\r\n",
      "The boy only struggled to free himself. He was crying--mainly from rage.\r\n",
      "\r\n",
      "�Holler �nuff!�--and the pounding went on.\r\n",
      "\r\n",
      "At last the stranger got out a smothered ��Nuff!� and Elizabeth let him up and\r\n",
      "said:\r\n",
      "\r\n",
      "�Now that�ll learn you. Better look out who you�re fooling with next\r\n",
      "time.�\r\n",
      "\r\n",
      "The new boy went off brushing the dust from his clothes, sobbing,\r\n",
      "snuffling, and occasionally looking back and shaking his head and\r\n",
      "threatening what he would do to Elizabeth the �next time he caught him out.�\r\n",
      " To which Elizabeth responded with jeers, and started off in high feather, and\r\n",
      "as soon as his back was turned the new boy snatched up a stone, threw it\r\n",
      "and hit him between the shoulders and then turned tail and ran like\r\n",
      "an antelope. Elizabeth chased the traitor home, and thus found out where he\r\n",
      "lived. He then held a position at the gate for some time, daring the\r\n",
      "enemy to come outside, but the enemy only made faces at him through the\r\n",
      "window and declined. At last the enemy�s mother appeared, and called Elizabeth\r\n",
      "a bad, vicious, vulgar child, and ordered him away. So he went away; but\r\n",
      "he said he ��lowed� to �lay� for that boy.\r\n",
      "\r\n",
      "He got home pretty late that night, and when he climbed cautiously in\r\n",
      "at the window, he uncovered an ambuscade, in the person of his aunt; and\r\n",
      "when she saw the state his clothes were in her resolution to turn his\r\n",
      "Saturday holiday into captivity at hard labor became adamantine in its\r\n",
      "firmness.\r\n",
      "\r\n",
      "\r\n",
      "\r\n",
      "\r\n",
      "CHAPTER II\r\n",
      "\r\n",
      "SATURDAY morning was come, and all the summer world was bright and\r\n",
      "fresh, and brimming with life. There was a song in every heart; and if\r\n",
      "the heart was young the music issued at the lips. There was cheer in\r\n",
      "every face and a spring in every step. The locust-trees were in bloom\r\n",
      "and the fragrance of the blossoms filled the air. Cardiff Hill, beyond\r\n",
      "the village and above it, was green with vegetation and it lay just far\r\n",
      "enough away to seem a Delectable Land, dreamy, reposeful, and inviting.\r\n",
      "\r\n",
      "Elizabeth appeared on the sidewalk with a bucket of whitewash and a\r\n",
      "long-handled brush. He surveyed the fence, and all gladness left him and\r\n",
      "a deep melancholy settled down upon his spirit. Thirty yards of board\r\n",
      "fence nine feet high. Life to him seemed hollow, and existence but a\r\n",
      "burden. Sighing, he dipped his brush and passed it along the topmost\r\n",
      "plank; repeated the operation; did it again; compared the insignificant\r\n",
      "whitewashed streak with the far-reaching continent of unwhitewashed\r\n",
      "fence, and sat down on a tree-box discouraged. Jim came skipping out at\r\n",
      "the gate with a tin pail, and singing Buffalo Gals. Bringing water from\r\n",
      "the town pump had always been hateful work in Elizabeth�s eyes, before, but\r\n",
      "now it did not strike him so. He remembered that there was company at\r\n",
      "the pump. White, mulatto, and negro boys and girls were always there\r\n",
      "waiting their turns, resting, trading playthings, quarrelling, fighting,\r\n",
      "skylarking. And he remembered that although the pump was only a hundred\r\n",
      "and fifty yards off, Jim never got back with a bucket of water under an\r\n",
      "hour--and even then somebody generally had to go after him. Elizabeth said:\r\n",
      "\r\n",
      "�Say, Jim, I�ll fetch the water if you�ll whitewash some.�\r\n",
      "\r\n",
      "Jim shook his head and said:\r\n",
      "\r\n",
      "�Can�t, Mars Elizabeth. Ole missis, she tole me I got to go an� git dis water\r\n",
      "an� not stop foolin� roun� wid anybody. She say she spec� Mars Elizabeth gwine\r\n",
      "to ax me to whitewash, an� so she tole me go �long an� �tend to my own\r\n",
      "business--she �lowed _she�d_ �tend to de whitewashin�.�\r\n",
      "\r\n",
      "�Oh, never you mind what she said, Jim. That�s the way she always talks.\r\n",
      "Gimme the bucket--I won�t be gone only a a minute. _She_ won�t ever\r\n",
      "know.�\r\n",
      "\r\n",
      "�Oh, I dasn�t, Mars Elizabeth. Ole missis she�d take an� tar de head off�n me.\r\n",
      "�Deed she would.�\r\n",
      "\r\n",
      "�_She_! She never licks anybody--whacks �em over the head with her\r\n",
      "thimble--and who cares for that, I�d like to know. She talks awful, but\r\n",
      "talk don�t hurt--anyways it don�t if she don�t cry. Jim, I�ll give you a\r\n",
      "marvel. I�ll give you a white alley!�\r\n",
      "\r\n",
      "Jim began to waver.\r\n",
      "\r\n",
      "�White alley, Jim! And it�s a bully taw.�\r\n",
      "\r\n",
      "�My! Dat�s a mighty gay marvel, I tell you! But Mars Elizabeth I�s powerful\r\n",
      "�fraid ole missis--�\r\n",
      "\r\n",
      "�And besides, if you will I�ll show you my sore toe.�\r\n",
      "\r\n",
      "Jim was only human--this attraction was too much for him. He put down\r\n",
      "his pail, took the white alley, and bent over the toe with absorbing\r\n",
      "interest while the bandage was being unwound. In another moment he\r\n",
      "was flying down the street with his pail and a tingling rear, Elizabeth was\r\n",
      "whitewashing with vigor, and Lydia was retiring from the field with\r\n",
      "a slipper in her hand and triumph in her eye.\r\n",
      "\r\n",
      "But Elizabeth�s energy did not last. He began to think of the fun he had\r\n",
      "planned for this day, and his sorrows multiplied. Soon the free boys\r\n",
      "would come tripping along on all sorts of delicious expeditions, and\r\n",
      "they would make a world of fun of him for having to work--the very\r\n",
      "thought of it burnt him like fire. He got out his worldly wealth and\r\n",
      "examined it--bits of toys, marbles, and trash; enough to buy an exchange\r\n",
      "of _work_, maybe, but not half enough to buy so much as half an hour\r\n",
      "of pure freedom. So he returned his straitened means to his pocket, and\r\n",
      "gave up the idea of trying to buy the boys. At this dark and hopeless\r\n",
      "moment an inspiration burst upon him! Nothing less than a great,\r\n",
      "magnificent inspiration.\r\n",
      "\r\n",
      "He took up his brush and went tranquilly to work. Ben Rogers hove in\r\n",
      "sight presently--the very boy, of all boys, whose ridicule he had been\r\n",
      "dreading. Ben�s gait was the hop-skip-and-jump--proof enough that his\r\n",
      "heart was light and his anticipations high. He was eating an apple, and\r\n",
      "giving a long, melodious whoop, at intervals, followed by a deep-toned\r\n",
      "ding-dong-dong, ding-dong-dong, for he was personating a steamboat. As\r\n",
      "he drew near, he slackened speed, took the middle of the street, leaned\r\n",
      "far over to starboard and rounded to ponderously and with laborious pomp\r\n",
      "and circumstance--for he was personating the Big Missouri, and considered\r\n",
      "himself to be drawing nine feet of water. He was boat and captain and\r\n",
      "engine-bells combined, so he had to imagine himself standing on his own\r\n",
      "hurricane-deck giving the orders and executing them:\r\n",
      "\r\n",
      "�Stop her, sir! Ting-a-ling-ling!� The headway ran almost out, and he\r\n",
      "drew up slowly toward the sidewalk.\r\n",
      "\r\n",
      "�Ship up to back! Ting-a-ling-ling!� His arms straightened and stiffened\r\n",
      "down his sides.\r\n",
      "\r\n",
      "�Set her back on the stabboard! Ting-a-ling-ling! Chow! ch-chow-wow!\r\n",
      "Chow!� His right hand, mean-time, describing stately circles--for it was\r\n",
      "representing a forty-foot wheel.\r\n",
      "\r\n",
      "�Let her go back on the labboard! Ting-a-ling-ling! Chow-ch-chow-chow!�\r\n",
      " The left hand began to describe circles.\r\n",
      "\r\n",
      "�Stop the stabboard! Ting-a-ling-ling! Stop the labboard! Come ahead on\r\n",
      "the stabboard! Stop her! Let your outside turn over slow! Ting-a-ling-ling!\r\n",
      "Chow-ow-ow! Get out that head-line! _lively_ now! Come--out with\r\n",
      "your spring-line--what�re you about there! Take a turn round that stump\r\n",
      "with the bight of it! Stand by that stage, now--let her go! Done with\r\n",
      "the engines, sir! Ting-a-ling-ling! SH�T! S�H�T! SH�T!� (trying the\r\n",
      "gauge-cocks).\r\n",
      "\r\n",
      "Elizabeth went on whitewashing--paid no attention to the steamboat. Ben stared\r\n",
      "a moment and then said: �_Hi-Yi! You�re_ up a stump, ain�t you!�\r\n",
      "\r\n",
      "No answer. Elizabeth surveyed his last touch with the eye of an artist, then\r\n",
      "he gave his brush another gentle sweep and surveyed the result, as\r\n",
      "before. Ben ranged up alongside of him. Elizabeth�s mouth watered for the\r\n",
      "apple, but he stuck to his work. Ben said:\r\n",
      "\r\n",
      "�Hello, old chap, you got to work, hey?�\r\n",
      "\r\n",
      "Elizabeth wheeled suddenly and said:\r\n",
      "\r\n",
      "�Why, it�s you, Ben! I warn�t noticing.�\r\n",
      "\r\n",
      "�Say--I�m going in a-swimming, I am. Don�t you wish you could? But of\r\n",
      "course you�d druther _work_--wouldn�t you? Course you would!�\r\n",
      "\r\n",
      "Elizabeth contemplated the boy a bit, and said:\r\n",
      "\r\n",
      "�What do you call work?�\r\n",
      "\r\n",
      "�Why, ain�t _that_ work?�\r\n",
      "\r\n",
      "Elizabeth resumed his whitewashing, and answered carelessly:\r\n",
      "\r\n",
      "�Well, maybe it is, and maybe it ain�t. All I know, is, it suits Elizabeth\r\n",
      "Sawyer.�\r\n",
      "\r\n",
      "�Oh come, now, you don�t mean to let on that you _like_ it?�\r\n",
      "\r\n",
      "The brush continued to move.\r\n",
      "\r\n",
      "�Like it? Well, I don�t see why I oughtn�t to like it. Does a boy get a\r\n",
      "chance to whitewash a fence every day?�\r\n",
      "\r\n",
      "That put the thing in a new light. Ben stopped nibbling his apple.\r\n",
      "Elizabeth swept his brush daintily back and forth--stepped back to note the\r\n",
      "effect--added a touch here and there--criticised the effect again--Ben\r\n",
      "watching every move and getting more and more interested, more and more\r\n",
      "absorbed. Presently he said:\r\n",
      "\r\n",
      "�Say, Elizabeth, let _me_ whitewash a little.�\r\n",
      "\r\n",
      "Elizabeth considered, was about to consent; but he altered his mind:\r\n",
      "\r\n",
      "�No--no--I reckon it wouldn�t hardly do, Ben. You see, Lydia�s awful\r\n",
      "particular about this fence--right here on the street, you know--but if it\r\n",
      "was the back fence I wouldn�t mind and _she_ wouldn�t. Yes, she�s awful\r\n",
      "particular about this fence; it�s got to be done very careful; I reckon\r\n",
      "there ain�t one boy in a thousand, maybe two thousand, that can do it\r\n",
      "the way it�s got to be done.�\r\n",
      "\r\n",
      "�No--is that so? Oh come, now--lemme just try. Only just a little--I�d let\r\n",
      "_you_, if you was me, Elizabeth.�\r\n",
      "\r\n",
      "�Ben, I�d like to, honest injun; but Lydia--well, Jim wanted to do\r\n",
      "it, but she wouldn�t let him; Jane wanted to do it, and she wouldn�t let\r\n",
      "Jane. Now don�t you see how I�m fixed? If you was to tackle this fence\r\n",
      "and anything was to happen to it--�\r\n",
      "\r\n",
      "�Oh, shucks, I�ll be just as careful. Now lemme try. Say--I�ll give you\r\n",
      "the core of my apple.�\r\n",
      "\r\n",
      "�Well, here--No, Ben, now don�t. I�m afeard--�\r\n",
      "\r\n",
      "�I�ll give you _all_ of it!�\r\n",
      "\r\n",
      "Elizabeth gave up the brush with reluctance in his face, but alacrity in\n"
     ]
    }
   ],
   "source": [
    "print(sawyerPride[20000:30000])"
   ]
  },
  {
   "cell_type": "code",
   "execution_count": null,
   "metadata": {
    "collapsed": true
   },
   "outputs": [],
   "source": []
  }
 ],
 "metadata": {
  "kernelspec": {
   "display_name": "Python 3",
   "language": "python",
   "name": "python3"
  },
  "language_info": {
   "codemirror_mode": {
    "name": "ipython",
    "version": 3
   },
   "file_extension": ".py",
   "mimetype": "text/x-python",
   "name": "python",
   "nbconvert_exporter": "python",
   "pygments_lexer": "ipython3",
   "version": "3.5.2"
  }
 },
 "nbformat": 4,
 "nbformat_minor": 1
}
