{
 "cells": [
  {
   "cell_type": "code",
   "execution_count": 10,
   "metadata": {
    "collapsed": false
   },
   "outputs": [
    {
     "name": "stdout",
     "output_type": "stream",
     "text": [
      "Hello, do you understand this?  Bob Howes is a person, and so is Eliza Bennet. Google isn't a person\n"
     ]
    }
   ],
   "source": [
    "import spacy\n",
    "en_nlp = spacy.load('en')\n",
    "doc = \"Hello, do you understand this?  Bob Howes is a person, and so is Eliza Bennet. Google isn't a person\"\n",
    "print(doc)"
   ]
  },
  {
   "cell_type": "code",
   "execution_count": 11,
   "metadata": {
    "collapsed": false
   },
   "outputs": [
    {
     "name": "stdout",
     "output_type": "stream",
     "text": [
      "hello\n"
     ]
    }
   ],
   "source": [
    "print(\"hello\")"
   ]
  },
  {
   "cell_type": "code",
   "execution_count": 12,
   "metadata": {
    "collapsed": false
   },
   "outputs": [
    {
     "data": {
      "text/plain": [
       "'H'"
      ]
     },
     "execution_count": 12,
     "metadata": {},
     "output_type": "execute_result"
    }
   ],
   "source": [
    "doc[0]"
   ]
  },
  {
   "cell_type": "code",
   "execution_count": 13,
   "metadata": {
    "collapsed": true
   },
   "outputs": [],
   "source": [
    "doc = en_nlp(doc)"
   ]
  },
  {
   "cell_type": "code",
   "execution_count": 14,
   "metadata": {
    "collapsed": false
   },
   "outputs": [
    {
     "data": {
      "text/plain": [
       "Hello"
      ]
     },
     "execution_count": 14,
     "metadata": {},
     "output_type": "execute_result"
    }
   ],
   "source": [
    "doc[0]"
   ]
  },
  {
   "cell_type": "code",
   "execution_count": 16,
   "metadata": {
    "collapsed": false
   },
   "outputs": [
    {
     "data": {
      "text/plain": [
       "understand this?"
      ]
     },
     "execution_count": 16,
     "metadata": {},
     "output_type": "execute_result"
    }
   ],
   "source": [
    "doc[4:7]"
   ]
  },
  {
   "cell_type": "code",
   "execution_count": 17,
   "metadata": {
    "collapsed": false
   },
   "outputs": [
    {
     "data": {
      "text/plain": [
       "0.28131544589996338"
      ]
     },
     "execution_count": 17,
     "metadata": {},
     "output_type": "execute_result"
    }
   ],
   "source": [
    "hi = doc[0]\n",
    "you = doc[2]\n",
    "hi.similarity(you)"
   ]
  },
  {
   "cell_type": "code",
   "execution_count": 18,
   "metadata": {
    "collapsed": false
   },
   "outputs": [
    {
     "data": {
      "text/plain": [
       "(Bob Howes, Eliza Bennet, Google)"
      ]
     },
     "execution_count": 18,
     "metadata": {},
     "output_type": "execute_result"
    }
   ],
   "source": [
    "doc.ents"
   ]
  },
  {
   "cell_type": "code",
   "execution_count": 22,
   "metadata": {
    "collapsed": false
   },
   "outputs": [
    {
     "name": "stdout",
     "output_type": "stream",
     "text": [
      "Bob Howes: PERSON\n",
      "Eliza Bennet: PERSON\n",
      "Google: ORG\n"
     ]
    }
   ],
   "source": [
    "for ent in doc.ents:\n",
    "    print(\"{}: {}\".format(ent, ent.label_))"
   ]
  },
  {
   "cell_type": "code",
   "execution_count": 23,
   "metadata": {
    "collapsed": true
   },
   "outputs": [],
   "source": [
    "pandp = '''   On the following Monday Mrs. Bennet had the pleasure of receiving her brother and his wife, who came as usual to spend the Christmas at Longbourn. Mr. Gardiner was a sensible, gentlemanlike man, greatly superior to his sister, as well by nature as education. The Netherfield ladies would have had difficulty in believing that a man who lived by trade, and within view of his own warehouses, could have been so well-bred and agreeable. Mrs. Gardiner, who was several years younger than Mrs. Bennet and Mrs. Philips, was an amiable, intelligent, elegant woman, and a great favourite with all her Longbourn nieces. Between the two eldest and herself especially there subsisted a very particular regard. They had frequently been staying with her in town.\n",
    "\n",
    "   The first part of Mrs. Gardiner's business on her arrival was to distribute her presents and describe the newest fashions. When this was done she had a less active part to play. It became her turn to listen. Mrs. Bennet had many grievances to relate, and much to complain of. They had all been very ill-used since she last saw her sister. Two of her girls had been on the point of marriage, and after all there was nothing in it.\n",
    "\n",
    "   \"I do not blame Jane,\" she continued, \"for Jane would have got Mr. Bingley if she could. But Lizzy! oh, sister! it is very hard to think that she might have been Mr. Collins's wife by this time, had not it been for her own perverseness. He made her an offer in this very room, and she refused him. The consequence of it is, that Lady Lucas will have a daughter married before I have, and that Longbourn estate is just as much entailed as ever. The Lucases are very artful people indeed, sister. They are all for what they can get. I am sorry to say it of them, but so it is. It makes me very nervous and poorly to be thwarted so in my own family, and to have neighbours who think of themselves before anybody else. However, your coming just at this time is the greatest of comforts, and I am very glad to hear what you tell us of long sleeves.\"\n",
    "\n",
    "   Mrs. Gardiner, to whom the chief of this news had been given before, in the course of Jane and Elizabeth's correspondence with her, made her sister a slight answer, and, in compassion to her nieces, turned the conversation.\n",
    "\n",
    "   When alone with Elizabeth afterwards, she spoke more on the subject. \"It seems likely to have been a desirable match for Jane,\" said she. \"I am sorry it went off. But these things happen so often! A young man, such as you describe Mr. Bingley, so easily falls in love with a pretty girl for a few weeks, and when accident separates them, so easily forgets her, that these sort of inconstancies are very frequent.\"\n",
    "\n",
    "   \"An excellent consolation in its way,\" said Elizabeth, \"but it will not do for us. We do not suffer by accident. It does not often happen that the interference of friends will persuade a young man of independent fortune to think no more of a girl whom he was violently in love with only a few days before.\"\n",
    "\n",
    "   \"But that expression of 'violently in love' is so hackneyed, so doubtful, so indefinite, that it gives me very little idea. It is as often applied to feelings which arise from an half-hour's acquaintance, as to a real, strong attachment. Pray, how violent was Mr. Bingley's love?\"\n",
    "\n",
    "   \"I never saw a more promising inclination; He was growing quite inattentive to other people, and wholly engrossed by her. Every time they met it was more decided and remarkable. At his own ball he offended two or three young ladies by not asking them to dance; and I spoke to him twice myself without receiving an answer. Could there be finer symptoms? Is not general incivility the very essence of love?\"\n",
    "\n",
    "   \"Oh, yes! -- of that kind of love which I suppose him to have felt. Poor Jane! I am sorry for her, because, with her disposition, she may not get over it immediately. It had better have happened to you, Lizzy; you would have laughed yourself out of it sooner. But do you think she would be prevailed on to go back with us? Change of scene might be of service -- and perhaps a little relief from home, may be as useful as anything.\"\n",
    "\n",
    "   Elizabeth was exceedingly pleased with this proposal, and felt persuaded of her sister's ready acquiescence.\n",
    "\n",
    "   \"I hope,\" added Mrs. Gardiner, \"that no consideration with regard to this young man will influence her. We live in so different a part of town, all our connexions are so different, and, as you well know, we go out so little, that it is very improbable they should meet at all, unless he really comes to see her.\"\n",
    "\n",
    "   \"And that is quite impossible; for he is now in the custody of his friend, and Mr. Darcy would no more suffer him to call on Jane in such a part of London! My dear aunt, how could you think of it? Mr. Darcy may, perhaps, have heard of such a place as Gracechurch Street, but he would hardly think a month's ablution enough to cleanse him from its impurities, were he once to enter it; and, depend upon it, Mr. Bingley never stirs without him.\"\n",
    "\n",
    "   \"So much the better. I hope they will not meet at all. But does not Jane correspond with the sister? She will not be able to help calling.\"\n",
    "\n",
    "   \"She will drop the acquaintance entirely.\"\n",
    "\n",
    "   But in spite of the certainty in which Elizabeth affected to place this point, as well as the still more interesting one of Bingley's being withheld from seeing Jane, she felt a solicitude on the subject which convinced her, on examination, that she did not consider it entirely hopeless. It was possible, and sometimes she thought it probable, that his affection might be reanimated, and the influence of his friends successfully combated by the more natural influence of Jane's attractions.\n",
    "\n",
    "   Miss Bennet accepted her aunt's invitation with pleasure; and the Bingleys were no otherwise in her thoughts at the time than as she hoped that, by Caroline's not living in the same house with her brother, she might occasionally spend a morning with her, without any danger of seeing him.\n",
    "\n",
    "   The Gardiners staid a week at Longbourn; and what with the Philipses, the Lucases, and the officers, there was not a day without its engagement. Mrs. Bennet had so carefully provided for the entertainment of her brother and sister that they did not once sit down to a family dinner. When the engagement was for home, some of the officers always made part of it -- of which officers Mr. Wickham was sure to be one; and on these occasions Mrs. Gardiner, rendered suspicious by Elizabeth's warm commendation of him, narrowly observed them both. Without supposing them, from what she saw, to be very seriously in love, their preference of each other was plain enough to make her a little uneasy; and she resolved to speak to Elizabeth on the subject before she left Hertfordshire, and represent to her the imprudence of encouraging such an attachment.\n",
    "\n",
    "   To Mrs. Gardiner, Wickham had one means of affording pleasure, unconnected with his general powers. About ten or a dozen years ago, before her marriage, she had spent a considerable time in that very part of Derbyshire to which he belonged. They had, therefore, many acquaintance in common; and though Wickham had been little there since the death of Darcy's father, five years before, it was yet in his power to give her fresher intelligence of her former friends than she had been in the way of procuring.\n",
    "\n",
    "   Mrs. Gardiner had seen Pemberley, and known the late Mr. Darcy by character perfectly well. Here consequently was an inexhaustible subject of discourse. In comparing her recollection of Pemberley with the minute description which Wickham could give, and in bestowing her tribute of praise on the character of its late possessor, she was delighting both him and herself. On being made acquainted with the present Mr. Darcy's treatment of him, she tried to remember something of that gentleman's reputed disposition when quite a lad which might agree with it, and was confident at last that she recollected having heard Mr. Fitzwilliam Darcy formerly spoken of as a very proud, ill-natured boy.\n",
    "\n",
    "\n",
    "'''"
   ]
  },
  {
   "cell_type": "code",
   "execution_count": 34,
   "metadata": {
    "collapsed": false
   },
   "outputs": [],
   "source": [
    "parsed = en_nlp(pandp)\n",
    "people = []\n",
    "\n",
    "for ent in parsed.ents:\n",
    "    if ent.label_ == \"PERSON\":\n",
    "        people.append(str(ent))"
   ]
  },
  {
   "cell_type": "code",
   "execution_count": 26,
   "metadata": {
    "collapsed": true
   },
   "outputs": [],
   "source": [
    "def rm_dup(arr):\n",
    "    cleaned = []\n",
    "    for item in arr:\n",
    "        if not item in cleaned:\n",
    "            cleaned.append(item)\n",
    "    return cleaned"
   ]
  },
  {
   "cell_type": "code",
   "execution_count": 35,
   "metadata": {
    "collapsed": false
   },
   "outputs": [
    {
     "data": {
      "text/plain": [
       "['Bennet',\n",
       " 'the Christmas at Longbourn',\n",
       " 'Gardiner',\n",
       " 'Philips',\n",
       " 'Jane',\n",
       " 'Bingley',\n",
       " 'Lizzy',\n",
       " 'Collins',\n",
       " 'Lady Lucas',\n",
       " 'Longbourn',\n",
       " 'Elizabeth',\n",
       " 'Darcy',\n",
       " 'Bingleys',\n",
       " 'Caroline',\n",
       " 'Philipses',\n",
       " 'Lucases',\n",
       " 'Wickham',\n",
       " 'Hertfordshire',\n",
       " 'Pemberley',\n",
       " 'Fitzwilliam Darcy']"
      ]
     },
     "execution_count": 35,
     "metadata": {},
     "output_type": "execute_result"
    }
   ],
   "source": [
    "rm_dup(people)"
   ]
  },
  {
   "cell_type": "code",
   "execution_count": 37,
   "metadata": {
    "collapsed": false
   },
   "outputs": [
    {
     "data": {
      "text/plain": [
       "Counter({'Bennet': 5,\n",
       "         'Bingley': 5,\n",
       "         'Bingleys': 1,\n",
       "         'Caroline': 1,\n",
       "         'Collins': 1,\n",
       "         'Darcy': 4,\n",
       "         'Elizabeth': 7,\n",
       "         'Fitzwilliam Darcy': 1,\n",
       "         'Gardiner': 8,\n",
       "         'Hertfordshire': 1,\n",
       "         'Jane': 9,\n",
       "         'Lady Lucas': 1,\n",
       "         'Lizzy': 2,\n",
       "         'Longbourn': 1,\n",
       "         'Lucases': 1,\n",
       "         'Pemberley': 1,\n",
       "         'Philips': 1,\n",
       "         'Philipses': 1,\n",
       "         'Wickham': 4,\n",
       "         'the Christmas at Longbourn': 1})"
      ]
     },
     "execution_count": 37,
     "metadata": {},
     "output_type": "execute_result"
    }
   ],
   "source": [
    "from collections import Counter\n",
    "Counter(people)"
   ]
  },
  {
   "cell_type": "code",
   "execution_count": 46,
   "metadata": {
    "collapsed": true
   },
   "outputs": [],
   "source": [
    "def top_n_characters(text, n=3):\n",
    "    parsed = en_nlp(text)\n",
    "    people = []\n",
    "\n",
    "    for ent in parsed.ents:\n",
    "        if ent.label_ == \"PERSON\":\n",
    "            people.append(str(ent))\n",
    "    \n",
    "    counts = Counter(people)\n",
    "    return counts.most_common(n)"
   ]
  },
  {
   "cell_type": "code",
   "execution_count": 47,
   "metadata": {
    "collapsed": false
   },
   "outputs": [
    {
     "data": {
      "text/plain": [
       "[('Jane', 9), ('Gardiner', 8), ('Elizabeth', 7)]"
      ]
     },
     "execution_count": 47,
     "metadata": {},
     "output_type": "execute_result"
    }
   ],
   "source": [
    "top_n_characters(pandp)"
   ]
  },
  {
   "cell_type": "code",
   "execution_count": 42,
   "metadata": {
    "collapsed": true
   },
   "outputs": [],
   "source": [
    "import requests\n",
    "sawyer = requests.get('https://www.gutenberg.org/files/74/74-0.txt').text"
   ]
  },
  {
   "cell_type": "code",
   "execution_count": 48,
   "metadata": {
    "collapsed": false
   },
   "outputs": [
    {
     "data": {
      "text/plain": [
       "[('Tom', 546),\n",
       " ('Huck', 118),\n",
       " ('Joe', 65),\n",
       " ('Sid', 61),\n",
       " ('Becky', 53),\n",
       " ('Injun Joe', 39),\n",
       " ('Mary', 34),\n",
       " ('Aunt Polly', 32),\n",
       " ('Tom Sawyer', 24),\n",
       " ('Thatcher', 19)]"
      ]
     },
     "execution_count": 48,
     "metadata": {},
     "output_type": "execute_result"
    }
   ],
   "source": [
    "top_n_characters(sawyer, n=10)"
   ]
  },
  {
   "cell_type": "code",
   "execution_count": null,
   "metadata": {
    "collapsed": true
   },
   "outputs": [],
   "source": []
  }
 ],
 "metadata": {
  "kernelspec": {
   "display_name": "Python 3",
   "language": "python",
   "name": "python3"
  },
  "language_info": {
   "codemirror_mode": {
    "name": "ipython",
    "version": 3
   },
   "file_extension": ".py",
   "mimetype": "text/x-python",
   "name": "python",
   "nbconvert_exporter": "python",
   "pygments_lexer": "ipython3",
   "version": "3.5.2"
  }
 },
 "nbformat": 4,
 "nbformat_minor": 1
}
